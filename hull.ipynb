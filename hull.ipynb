{
 "cells": [
  {
   "cell_type": "code",
   "execution_count": 1,
   "metadata": {},
   "outputs": [],
   "source": [
    "import numpy as np\n",
    "from scipy.spatial import ConvexHull\n",
    "import tifffile as tiff\n",
    "from numba import njit\n",
    "import os\n",
    "import pandas as pd\n",
    "from skimage.filters import gaussian"
   ]
  },
  {
   "cell_type": "code",
   "execution_count": 2,
   "metadata": {},
   "outputs": [],
   "source": [
    "def readfile(csv_file):\n",
    "    # Read the CSV file into a DataFrame\n",
    "    df = pd.read_csv(csv_file)\n",
    "\n",
    "    cell_points = {}\n",
    "\n",
    "    # Iterate through the DataFrame and store the cell index at the corresponding x, y, z position in the output array\n",
    "    cell_index_set = set([int(_) for _ in df['Cell Index']])\n",
    "    for index in cell_index_set:\n",
    "        cell_points[index + 1] = []\n",
    "\n",
    "    xmax, ymax, zmax = 0, 0, 0\n",
    "    for index, row in df.iterrows():\n",
    "        x, y, z = int(row['x_in_pix']), int(row['y_in_pix']), int(row['z_in_pix'])\n",
    "        cell_index = int(row['Cell Index']) + 1\n",
    "        cell_points[cell_index].append([x, y, z])\n",
    "        xmax, ymax, zmax = max(x, xmax), max(y, ymax), max(z, zmax)\n",
    "    min_output_shape = (xmax, ymax, zmax)\n",
    "\n",
    "    return cell_points, min_output_shape\n",
    "\n",
    "\n",
    "@njit\n",
    "def get_filled_hull_numba(mask, equations, scan_range):\n",
    "    for z in range(scan_range[0][2], scan_range[1][2] + 1):\n",
    "        for y in range(scan_range[0][1], scan_range[1][1] + 1):\n",
    "            for x in range(scan_range[0][0], scan_range[1][0] + 1):\n",
    "                inside_hull = True\n",
    "                for i in range(equations.shape[0]):\n",
    "                    plane = equations[i]\n",
    "                    if plane[0] * x + plane[1] * y + plane[2] * z + plane[3] > 0:\n",
    "                        inside_hull = False\n",
    "                        break\n",
    "                if inside_hull:\n",
    "                    mask[x, y, z] = True\n",
    "\n",
    "\n",
    "def get_filled_hull(hull, shape, scan_range):\n",
    "    mask = np.zeros(shape, dtype=bool)\n",
    "    get_filled_hull_numba(mask, hull.equations, scan_range)\n",
    "    return mask\n",
    "\n",
    "\n",
    "def generate_labeled_tif(input_data, output_shape = (2068, 2068, 158)):\n",
    "    labels = list(input_data.keys())\n",
    "    filled_hull = np.zeros(output_shape, dtype=np.uint16)\n",
    "    smoothed_filled_hull = np.zeros(output_shape, dtype=np.uint16)\n",
    "\n",
    "    for label in labels:\n",
    "        if len(input_data[label]) <= 10:\n",
    "            continue\n",
    "        points = np.array(input_data[label])\n",
    "        scan_range = np.array([np.min(points, axis=0), np.max(points, axis=0)])\n",
    "\n",
    "        hull = ConvexHull(points)\n",
    "        mask = get_filled_hull(hull, output_shape, scan_range)\n",
    "        filled_hull[mask] = label\n",
    "        \n",
    "        # # gaussian blur\n",
    "        # tmp_filled_hull = np.zeros(output_shape, dtype=np.float32)\n",
    "        # tmp_filled_hull[mask] = 255\n",
    "        # smoothed_hull = gaussian(filled_hull, sigma=7, preserve_range=True)\n",
    "        \n",
    "        # # binary\n",
    "        # binary_hull = (smoothed_hull > 127).astype(np.uint16)\n",
    "        \n",
    "        # # gray color\n",
    "        # colored_hull = binary_hull * label\n",
    "\n",
    "        # # add current hull to tif file\n",
    "        # smoothed_filled_hull += colored_hull\n",
    "\n",
    "    return filled_hull, smoothed_filled_hull"
   ]
  },
  {
   "cell_type": "code",
   "execution_count": 3,
   "metadata": {},
   "outputs": [],
   "source": [
    "# os.chdir('./cell_segment_show/')\n",
    "input_filename = 'rna_labeled.csv'\n",
    "output_filename = 'hull_cells'"
   ]
  },
  {
   "cell_type": "code",
   "execution_count": 4,
   "metadata": {},
   "outputs": [],
   "source": [
    "input_cells, min_output_shape = readfile(csv_file = f'./{input_filename}')"
   ]
  },
  {
   "cell_type": "code",
   "execution_count": 7,
   "metadata": {},
   "outputs": [],
   "source": [
    "sub_input_cells = {}\n",
    "for index in range(1000, 1010):\n",
    "    sub_input_cells[index] = input_cells[index]"
   ]
  },
  {
   "cell_type": "code",
   "execution_count": 8,
   "metadata": {},
   "outputs": [],
   "source": [
    "filled_hull, smoothed_filled_hull = generate_labeled_tif(sub_input_cells, output_shape = min_output_shape)\n",
    "\n",
    "tiff.imwrite(f'./hull_results/{output_filename}.tif', np.transpose(filled_hull, (2, 1, 0)))\n",
    "# tiff.imwrite(f'./hull_results/{output_filename}_smoothed.tif', np.transpose(smoothed_filled_hull, (2, 1, 0)))"
   ]
  }
 ],
 "metadata": {
  "kernelspec": {
   "display_name": "image_process",
   "language": "python",
   "name": "python3"
  },
  "language_info": {
   "codemirror_mode": {
    "name": "ipython",
    "version": 3
   },
   "file_extension": ".py",
   "mimetype": "text/x-python",
   "name": "python",
   "nbconvert_exporter": "python",
   "pygments_lexer": "ipython3",
   "version": "3.9.7"
  },
  "orig_nbformat": 4
 },
 "nbformat": 4,
 "nbformat_minor": 2
}
