{
 "cells": [
  {
   "cell_type": "code",
   "execution_count": 1,
   "metadata": {},
   "outputs": [],
   "source": [
    "import pandas as pd\n",
    "import numpy as np\n",
    "import os\n",
    "import tifffile\n",
    "from lib.fast_dilation_erosion import perform_dilation_erosion"
   ]
  },
  {
   "cell_type": "code",
   "execution_count": 2,
   "metadata": {},
   "outputs": [],
   "source": [
    "def readfile(csv_file):\n",
    "    # Read the CSV file into a DataFrame\n",
    "    df = pd.read_csv(csv_file)\n",
    "\n",
    "    # Get the maximum x, y, and z values to determine the shape of the output array\n",
    "    max_x = int(df['x_in_pix'].max())\n",
    "    max_y = int(df['y_in_pix'].max())\n",
    "    max_z = int(df['z_in_pix'].max())\n",
    "\n",
    "    # Create a new NumPy array with the desired shape, initialized with zeros\n",
    "    output_array = np.zeros((max_x + 1, max_y + 1, max_z + 1)).astype('int16')\n",
    "\n",
    "    # Iterate through the DataFrame and store the cell index at the corresponding x, y, z position in the output array\n",
    "    for index, row in df.iterrows():\n",
    "        x, y, z = int(row['x_in_pix']), int(row['y_in_pix']), int(row['z_in_pix'])\n",
    "        cell_index = int(row['Cell Index'])\n",
    "        output_array[x, y, z] = cell_index\n",
    "\n",
    "    # Add a padding of 1 layer of zeros around the existing array\n",
    "    padded_array = np.pad(output_array, pad_width=10, mode='constant', constant_values=0)\n",
    "    \n",
    "    return padded_array"
   ]
  },
  {
   "cell_type": "code",
   "execution_count": 3,
   "metadata": {},
   "outputs": [],
   "source": [
    "os.chdir('/home/akikawa/project/cell_segment_show/')"
   ]
  },
  {
   "cell_type": "code",
   "execution_count": 5,
   "metadata": {},
   "outputs": [],
   "source": [
    "cell_array = readfile(csv_file = './(2023.5.2)rna_labeled.csv')"
   ]
  },
  {
   "cell_type": "code",
   "execution_count": null,
   "metadata": {},
   "outputs": [],
   "source": [
    "closed_image = perform_dilation_erosion(cell_array, kernel_size=9, iterations=1, border_size=10)"
   ]
  },
  {
   "cell_type": "code",
   "execution_count": null,
   "metadata": {},
   "outputs": [],
   "source": [
    "# Save the closed image as a new 3D TIFF\n",
    "tifffile.imwrite('./closing_results/output.tif', np.moveaxis(closed_image, 2, 0))"
   ]
  }
 ],
 "metadata": {
  "kernelspec": {
   "display_name": "base",
   "language": "python",
   "name": "python3"
  },
  "language_info": {
   "codemirror_mode": {
    "name": "ipython",
    "version": 3
   },
   "file_extension": ".py",
   "mimetype": "text/x-python",
   "name": "python",
   "nbconvert_exporter": "python",
   "pygments_lexer": "ipython3",
   "version": "3.10.11"
  },
  "orig_nbformat": 4
 },
 "nbformat": 4,
 "nbformat_minor": 2
}
