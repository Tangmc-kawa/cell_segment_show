{
 "cells": [
  {
   "cell_type": "code",
   "execution_count": 5,
   "metadata": {},
   "outputs": [],
   "source": [
    "import pandas as pd\n",
    "import numpy as np\n",
    "import cv2\n",
    "import os\n",
    "import tifffile\n",
    "from scipy.ndimage import binary_closing, generate_binary_structure\n",
    "from scipy.spatial.distance import euclidean\n"
   ]
  },
  {
   "cell_type": "code",
   "execution_count": 9,
   "metadata": {},
   "outputs": [],
   "source": [
    "def readfile(csv_file):\n",
    "    # Read the CSV file into a DataFrame\n",
    "    df = pd.read_csv(csv_file)\n",
    "\n",
    "    # Get the maximum x, y, and z values to determine the shape of the output array\n",
    "    max_x = int(df['x_in_pix'].max())\n",
    "    max_y = int(df['y_in_pix'].max())\n",
    "    max_z = int(df['z_in_pix'].max())\n",
    "\n",
    "    # Create a new NumPy array with the desired shape, initialized with zeros\n",
    "    output_array = np.zeros((max_x + 1, max_y + 1, max_z + 1)).astype('int16')\n",
    "\n",
    "    # Iterate through the DataFrame and store the cell index at the corresponding x, y, z position in the output array\n",
    "    for index, row in df.iterrows():\n",
    "        x, y, z = int(row['x_in_pix']), int(row['y_in_pix']), int(row['z_in_pix'])\n",
    "        cell_index = int(row['Cell Index'])\n",
    "        output_array[x, y, z] = cell_index\n",
    "\n",
    "    # Add a padding of 1 layer of zeros around the existing array\n",
    "    padded_array = np.pad(output_array, pad_width=10, mode='constant', constant_values=0)\n",
    "    \n",
    "    return padded_array\n",
    "\n",
    "\n",
    "def closing_by_scipy(labels):\n",
    "    # Create an empty array to store the processed labels\n",
    "    closing_labels = np.zeros_like(labels).astype('int16')\n",
    "\n",
    "    # Get the unique labels in the labeled matrix\n",
    "    unique_labels = np.unique(labels)\n",
    "\n",
    "    # Define the structure element for closing (you can adjust the connectivity parameter)\n",
    "    # structure_element = generate_binary_structure(rank=3, connectivity=2)\n",
    "    size = (100, 100, 100)\n",
    "    radius = 10\n",
    "    center = np.array(size) / 2\n",
    "    structure_element = np.zeros(size, dtype=bool)\n",
    "\n",
    "    for index in np.ndindex(structure_element.shape):\n",
    "        if euclidean(center, index) <= radius:\n",
    "            structure_element[index] = True\n",
    "    \n",
    "    # Loop through each unique label\n",
    "    for label in unique_labels:\n",
    "        if label == 0:  # Skip the background label\n",
    "            continue\n",
    "\n",
    "        # Create a binary mask for the current label\n",
    "        mask = (labels == label).astype('int8')\n",
    "        \n",
    "        # Perform closing on the binary image\n",
    "        closed_mask = binary_closing(mask, structure=structure_element)\n",
    "        \n",
    "        # Replace the original values in the processed labels with the updated values from the eroded mask\n",
    "        closing_labels[closed_mask == 1] = label\n",
    "    \n",
    "    return closing_labels"
   ]
  },
  {
   "cell_type": "code",
   "execution_count": null,
   "metadata": {},
   "outputs": [],
   "source": [
    "os.chdir('C:/Users/14187/HuangLab/spatial_transcriptome/2_segmentation_show/')"
   ]
  },
  {
   "cell_type": "code",
   "execution_count": 4,
   "metadata": {},
   "outputs": [],
   "source": [
    "cell_array = readfile(csv_file = './rna_labeled.csv')"
   ]
  },
  {
   "cell_type": "code",
   "execution_count": 11,
   "metadata": {},
   "outputs": [],
   "source": [
    "sub_cell_array = cell_array[1000:1300, 1000:1300, :]"
   ]
  },
  {
   "cell_type": "code",
   "execution_count": 12,
   "metadata": {},
   "outputs": [],
   "source": [
    "closed_image = closing_by_scipy(sub_cell_array)\n",
    "# Save the closed image as a new 3D TIFF\n",
    "tifffile.imwrite('./output.tif', np.moveaxis(closed_image, 2, 0))"
   ]
  }
 ],
 "metadata": {
  "kernelspec": {
   "display_name": "base",
   "language": "python",
   "name": "python3"
  },
  "language_info": {
   "codemirror_mode": {
    "name": "ipython",
    "version": 3
   },
   "file_extension": ".py",
   "mimetype": "text/x-python",
   "name": "python",
   "nbconvert_exporter": "python",
   "pygments_lexer": "ipython3",
   "version": "3.11.3"
  },
  "orig_nbformat": 4
 },
 "nbformat": 4,
 "nbformat_minor": 2
}
